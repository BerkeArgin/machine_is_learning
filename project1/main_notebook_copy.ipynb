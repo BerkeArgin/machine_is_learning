{
 "cells": [
  {
   "cell_type": "code",
   "execution_count": 1,
   "metadata": {},
   "outputs": [],
   "source": [
    "import numpy as np\n",
    "from helpers import *\n",
    "from implementations import *\n",
    "\n",
    "%load_ext autoreload\n",
    "%autoreload 2"
   ]
  },
  {
   "cell_type": "code",
   "execution_count": 2,
   "metadata": {},
   "outputs": [
    {
     "name": "stdout",
     "output_type": "stream",
     "text": [
      "[[5.3000000e+01 1.1000000e+01 1.1162015e+07 ...           nan\n",
      "            nan 2.0000000e+00]\n",
      " [3.3000000e+01 1.2000000e+01 1.2152015e+07 ...           nan\n",
      "            nan           nan]\n",
      " [2.0000000e+01 1.0000000e+01 1.0202015e+07 ... 1.0000000e+00\n",
      "  2.0000000e+00 2.0000000e+00]\n",
      " [4.2000000e+01 6.0000000e+00 6.1820150e+06 ... 2.0000000e+00\n",
      "  2.0000000e+00 2.0000000e+00]\n",
      " [2.4000000e+01 1.1000000e+01 1.1062015e+07 ... 9.0000000e+00\n",
      "  9.0000000e+00 2.0000000e+00]]\n"
     ]
    }
   ],
   "source": [
    "\n",
    "data_path=\"data/dataset_to_release\"\n",
    "x_train, x_test, y_train, train_ids, test_ids = load_csv_data(data_path)\n",
    "print(x_train[:5])"
   ]
  },
  {
   "cell_type": "code",
   "execution_count": 3,
   "metadata": {},
   "outputs": [],
   "source": [
    "x_train_p, x_test_p=apply_preprocessing(x_train, x_test, \n",
    "                                        correlation_tolerance=0.01, \n",
    "                                        outlier_coefficient=2.0, \n",
    "                                        polynomial_degree=1, \n",
    "                                        log_transform_columns=[])"
   ]
  },
  {
   "cell_type": "code",
   "execution_count": 4,
   "metadata": {},
   "outputs": [],
   "source": [
    "def stratified_K_fold(y,k=5,seed=42):\n",
    "    no_of_test_labels=np.floor(y.shape[0]/k)\n",
    "    \n",
    "    unique_labels=np.unique(y)\n",
    "    label_ratio={};label_indexes={};label_count_p_fold={}\n",
    "\n",
    "    picked_count=0\n",
    "    for i,label in enumerate(unique_labels):\n",
    "        label_ratio[label]=y[y==label].shape[0]/y.shape[0]\n",
    "        label_indexes[label]=np.random.permutation(np.argwhere(y==label))\n",
    "        if i<len(unique_labels)-1:\n",
    "            label_count_p_fold[label]=np.floor(no_of_test_labels*label_ratio[label])\n",
    "            picked_count+=label_count_p_fold[label]\n",
    "        else:\n",
    "            label_count_p_fold[label]=no_of_test_labels-picked_count\n",
    "\n",
    "    folds=[]\n",
    "    for i in range(k):\n",
    "        index_arrs=[]\n",
    "        for label in unique_labels:\n",
    "            label_to_take=int(label_count_p_fold[label])\n",
    "            #print(i*label_to_take,(i+1)*label_to_take)\n",
    "            index_arrs.append(label_indexes[label][i*label_to_take:(i+1)*label_to_take])\n",
    "    \n",
    "        test_fold=np.random.permutation(np.concatenate(index_arrs))\n",
    "        train_fold=np.random.permutation(np.setdiff1d(np.indices(y.shape),test_fold,assume_unique=True))\n",
    "        #print(test_fold.shape,train_fold.shape)\n",
    "        folds.append((train_fold,test_fold))\n",
    "    \n",
    "    return folds\n",
    "\n",
    "def calculate_metrics(y_pred,y_true):\n",
    "    accuracy=y_pred[y_pred==y_true].shape[0]/y_pred.shape[0]\n",
    "    precision={};recall={}\n",
    "    for label in np.unique(y_true):\n",
    "        try:\n",
    "            precision[label]=y_pred[(y_pred==label) & (y_true==label)].shape[0]/y_pred[y_pred==label].shape[0]\n",
    "        except:\n",
    "            continue\n",
    "        try:\n",
    "            recall[label]=y_pred[(y_pred==label) & (y_true==label)].shape[0]/y_true[y_true==label].shape[0]\n",
    "        except:\n",
    "            continue\n",
    "    return accuracy,precision,recall\n",
    "\n",
    "def calculate_confusion_mat(y_pred,y_true):\n",
    "    unique_labels=np.unique(y_true)\n",
    "    conf_matrix=np.zeros(len(unique_labels))\n",
    "    for i,pred_label in enumerate(unique_labels):\n",
    "        for j,true_label in enumerate(unique_labels):\n",
    "            conf_matrix[i,j]=y_pred[y_pred==pred_label & y_true==true_label].shape[0]\n",
    "    return conf_matrix"
   ]
  },
  {
   "cell_type": "code",
   "execution_count": 5,
   "metadata": {},
   "outputs": [],
   "source": [
    "folds=stratified_K_fold(y_train)"
   ]
  },
  {
   "cell_type": "code",
   "execution_count": 15,
   "metadata": {},
   "outputs": [
    {
     "name": "stdout",
     "output_type": "stream",
     "text": [
      "Fold 1\n"
     ]
    },
    {
     "name": "stderr",
     "output_type": "stream",
     "text": [
      "/Users/berkeargin/Documents/GitHub/Turco-ML/project1/helpers.py:83: RuntimeWarning: overflow encountered in exp\n",
      "  return 1. / (1. + np.exp(-x))\n"
     ]
    },
    {
     "name": "stdout",
     "output_type": "stream",
     "text": [
      "Train loss: -1089.3914590208908\n",
      "Val loss: -1089.3914613146615\n",
      "Accuracy: 0.911697929205967 Precision: {-1.0: 1.0} Recall: {-1.0: 0.911697929205967}\n",
      "##########################################\n",
      "Fold 2\n",
      "Train loss: -1089.3914570225127\n",
      "Val loss: -1089.391464319407\n",
      "Accuracy: 0.911697929205967 Precision: {-1.0: 1.0} Recall: {-1.0: 0.911697929205967}\n",
      "##########################################\n",
      "Fold 3\n",
      "Train loss: -1089.3914752679755\n",
      "Val loss: -1089.39143694619\n",
      "Accuracy: 0.911697929205967 Precision: {-1.0: 1.0} Recall: {-1.0: 0.911697929205967}\n",
      "##########################################\n",
      "Fold 4\n",
      "Train loss: -1089.3914547059571\n",
      "Val loss: -1089.3914677801047\n",
      "Accuracy: 0.911697929205967 Precision: {-1.0: 1.0} Recall: {-1.0: 0.911697929205967}\n",
      "##########################################\n",
      "Fold 5\n",
      "Train loss: -1089.3914537063447\n",
      "Val loss: -1089.3914692880214\n",
      "Accuracy: 0.911697929205967 Precision: {-1.0: 1.0} Recall: {-1.0: 0.911697929205967}\n",
      "##########################################\n"
     ]
    }
   ],
   "source": [
    "for i,(train_fold,val_fold) in enumerate(folds):\n",
    "    print(\"Fold\",i+1)\n",
    "    x_train_fold=x_train_p[train_fold]\n",
    "    x_val_fold=x_train_p[val_fold]\n",
    "    \n",
    "    y_train_fold=y_train[train_fold]\n",
    "    y_val_fold=y_train[val_fold]\n",
    "\n",
    "    initial_w=np.zeros((x_train_fold.shape[1],))\n",
    "    #print(initial_w.shape)\n",
    "    w,loss=reg_logistic_regression(y_train_fold,x_train_fold,lambda_=0.1 ,initial_w=initial_w, max_iters=100, gamma=0.3)\n",
    "    print(\"Train loss:\",loss)\n",
    "    y_pred = sigmoid(x_val_fold.dot(w))\n",
    "    y_pred[y_pred>1/2]=1;y_pred[y_pred<1/2]=-1\n",
    "    accuracy,precision,recall=calculate_metrics(y_val_fold,y_pred)\n",
    "    print(\"Val loss:\",calculate_logistic_loss(y_val_fold,x_val_fold,w))\n",
    "    print(\"Accuracy:\",accuracy,\"Precision:\",precision,\"Recall:\",recall)\n",
    "    print(\"##########################################\")"
   ]
  },
  {
   "cell_type": "code",
   "execution_count": 20,
   "metadata": {},
   "outputs": [
    {
     "name": "stdout",
     "output_type": "stream",
     "text": [
      "Fold 1\n"
     ]
    },
    {
     "ename": "ValueError",
     "evalue": "'list' argument must have no negative elements",
     "output_type": "error",
     "traceback": [
      "\u001b[0;31m---------------------------------------------------------------------------\u001b[0m",
      "\u001b[0;31mValueError\u001b[0m                                Traceback (most recent call last)",
      "\u001b[0;32m/var/folders/l1/8zt_lx6x0814k8sr48r34sk00000gn/T/ipykernel_5312/2906765037.py\u001b[0m in \u001b[0;36m<module>\u001b[0;34m\u001b[0m\n\u001b[1;32m      9\u001b[0m     \u001b[0minitial_w\u001b[0m\u001b[0;34m=\u001b[0m\u001b[0mnp\u001b[0m\u001b[0;34m.\u001b[0m\u001b[0mzeros\u001b[0m\u001b[0;34m(\u001b[0m\u001b[0;34m(\u001b[0m\u001b[0mx_train_fold\u001b[0m\u001b[0;34m.\u001b[0m\u001b[0mshape\u001b[0m\u001b[0;34m[\u001b[0m\u001b[0;36m1\u001b[0m\u001b[0;34m]\u001b[0m\u001b[0;34m,\u001b[0m\u001b[0;34m)\u001b[0m\u001b[0;34m)\u001b[0m\u001b[0;34m\u001b[0m\u001b[0;34m\u001b[0m\u001b[0m\n\u001b[1;32m     10\u001b[0m     \u001b[0;31m#print(initial_w.shape)\u001b[0m\u001b[0;34m\u001b[0m\u001b[0;34m\u001b[0m\u001b[0m\n\u001b[0;32m---> 11\u001b[0;31m     \u001b[0mw\u001b[0m\u001b[0;34m,\u001b[0m\u001b[0mloss\u001b[0m\u001b[0;34m=\u001b[0m\u001b[0mreg_logistic_regression_w_clw\u001b[0m\u001b[0;34m(\u001b[0m\u001b[0my_train_fold\u001b[0m\u001b[0;34m,\u001b[0m\u001b[0mx_train_fold\u001b[0m\u001b[0;34m,\u001b[0m\u001b[0mlambda_\u001b[0m\u001b[0;34m=\u001b[0m\u001b[0;36m0.1\u001b[0m \u001b[0;34m,\u001b[0m\u001b[0minitial_w\u001b[0m\u001b[0;34m=\u001b[0m\u001b[0minitial_w\u001b[0m\u001b[0;34m,\u001b[0m \u001b[0mmax_iters\u001b[0m\u001b[0;34m=\u001b[0m\u001b[0;36m100\u001b[0m\u001b[0;34m,\u001b[0m \u001b[0mgamma\u001b[0m\u001b[0;34m=\u001b[0m\u001b[0;36m0.3\u001b[0m\u001b[0;34m)\u001b[0m\u001b[0;34m\u001b[0m\u001b[0;34m\u001b[0m\u001b[0m\n\u001b[0m\u001b[1;32m     12\u001b[0m     \u001b[0mprint\u001b[0m\u001b[0;34m(\u001b[0m\u001b[0;34m\"Train loss:\"\u001b[0m\u001b[0;34m,\u001b[0m\u001b[0mloss\u001b[0m\u001b[0;34m)\u001b[0m\u001b[0;34m\u001b[0m\u001b[0;34m\u001b[0m\u001b[0m\n\u001b[1;32m     13\u001b[0m     \u001b[0my_pred\u001b[0m \u001b[0;34m=\u001b[0m \u001b[0msigmoid\u001b[0m\u001b[0;34m(\u001b[0m\u001b[0mx_val_fold\u001b[0m\u001b[0;34m.\u001b[0m\u001b[0mdot\u001b[0m\u001b[0;34m(\u001b[0m\u001b[0mw\u001b[0m\u001b[0;34m)\u001b[0m\u001b[0;34m)\u001b[0m\u001b[0;34m\u001b[0m\u001b[0;34m\u001b[0m\u001b[0m\n",
      "\u001b[0;32m~/Documents/GitHub/Turco-ML/project1/implementations.py\u001b[0m in \u001b[0;36mreg_logistic_regression_w_clw\u001b[0;34m(y, tx, lambda_, initial_w, max_iters, gamma)\u001b[0m\n\u001b[1;32m    337\u001b[0m     \u001b[0mw\u001b[0m \u001b[0;34m=\u001b[0m \u001b[0minitial_w\u001b[0m\u001b[0;34m\u001b[0m\u001b[0;34m\u001b[0m\u001b[0m\n\u001b[1;32m    338\u001b[0m     \u001b[0mtx_weigh\u001b[0m\u001b[0;34m=\u001b[0m\u001b[0mnp\u001b[0m\u001b[0;34m.\u001b[0m\u001b[0mcopy\u001b[0m\u001b[0;34m(\u001b[0m\u001b[0mtx\u001b[0m\u001b[0;34m)\u001b[0m\u001b[0;34m\u001b[0m\u001b[0;34m\u001b[0m\u001b[0m\n\u001b[0;32m--> 339\u001b[0;31m     \u001b[0mtx_weigh\u001b[0m\u001b[0;34m=\u001b[0m\u001b[0my\u001b[0m\u001b[0;34m.\u001b[0m\u001b[0mshape\u001b[0m\u001b[0;34m[\u001b[0m\u001b[0;36m0\u001b[0m\u001b[0;34m]\u001b[0m\u001b[0;34m*\u001b[0m\u001b[0mtx_weigh\u001b[0m \u001b[0;34m/\u001b[0m \u001b[0;34m(\u001b[0m\u001b[0;36m2\u001b[0m \u001b[0;34m*\u001b[0m \u001b[0mnp\u001b[0m\u001b[0;34m.\u001b[0m\u001b[0mbincount\u001b[0m\u001b[0;34m(\u001b[0m\u001b[0my\u001b[0m\u001b[0;34m)\u001b[0m\u001b[0;34m)\u001b[0m\u001b[0;34m\u001b[0m\u001b[0;34m\u001b[0m\u001b[0m\n\u001b[0m\u001b[1;32m    340\u001b[0m     \u001b[0;32mfor\u001b[0m \u001b[0m_\u001b[0m \u001b[0;32min\u001b[0m \u001b[0mrange\u001b[0m\u001b[0;34m(\u001b[0m\u001b[0mmax_iters\u001b[0m\u001b[0;34m)\u001b[0m\u001b[0;34m:\u001b[0m\u001b[0;34m\u001b[0m\u001b[0;34m\u001b[0m\u001b[0m\n\u001b[1;32m    341\u001b[0m         \u001b[0mpredictions\u001b[0m \u001b[0;34m=\u001b[0m \u001b[0msigmoid\u001b[0m\u001b[0;34m(\u001b[0m\u001b[0mtx\u001b[0m\u001b[0;34m.\u001b[0m\u001b[0mdot\u001b[0m\u001b[0;34m(\u001b[0m\u001b[0mw\u001b[0m\u001b[0;34m)\u001b[0m\u001b[0;34m)\u001b[0m\u001b[0;34m\u001b[0m\u001b[0;34m\u001b[0m\u001b[0m\n",
      "\u001b[0;32m<__array_function__ internals>\u001b[0m in \u001b[0;36mbincount\u001b[0;34m(*args, **kwargs)\u001b[0m\n",
      "\u001b[0;31mValueError\u001b[0m: 'list' argument must have no negative elements"
     ]
    }
   ],
   "source": [
    "for i,(train_fold,val_fold) in enumerate(folds):\n",
    "    print(\"Fold\",i+1)\n",
    "    x_train_fold=x_train_p[train_fold]\n",
    "    x_val_fold=x_train_p[val_fold]\n",
    "    \n",
    "    y_train_fold=y_train[train_fold]\n",
    "    y_val_fold=y_train[val_fold]\n",
    "\n",
    "    initial_w=np.zeros((x_train_fold.shape[1],))\n",
    "    #print(initial_w.shape)\n",
    "    w,loss=reg_logistic_regression_w_clw(y_train_fold,x_train_fold,lambda_=0.1 ,initial_w=initial_w, max_iters=100, gamma=0.3)\n",
    "    print(\"Train loss:\",loss)\n",
    "    y_pred = sigmoid(x_val_fold.dot(w))\n",
    "    y_pred[y_pred>1/2]=1;y_pred[y_pred<1/2]=-1\n",
    "    accuracy,precision,recall=calculate_metrics(y_val_fold,y_pred)\n",
    "    print(\"Val loss:\",calculate_logistic_loss(y_val_fold,x_val_fold,w))\n",
    "    print(\"Accuracy:\",accuracy,\"Precision:\",precision,\"Recall:\",recall)\n",
    "    print(\"##########################################\")\n",
    "\n"
   ]
  },
  {
   "cell_type": "code",
   "execution_count": 36,
   "metadata": {},
   "outputs": [],
   "source": []
  },
  {
   "cell_type": "code",
   "execution_count": null,
   "metadata": {},
   "outputs": [],
   "source": []
  }
 ],
 "metadata": {
  "kernelspec": {
   "display_name": "base",
   "language": "python",
   "name": "python3"
  },
  "language_info": {
   "codemirror_mode": {
    "name": "ipython",
    "version": 3
   },
   "file_extension": ".py",
   "mimetype": "text/x-python",
   "name": "python",
   "nbconvert_exporter": "python",
   "pygments_lexer": "ipython3",
   "version": "3.8.0"
  }
 },
 "nbformat": 4,
 "nbformat_minor": 2
}
