{
 "cells": [
  {
   "cell_type": "code",
   "execution_count": 31,
   "metadata": {},
   "outputs": [
    {
     "name": "stdout",
     "output_type": "stream",
     "text": [
      "The autoreload extension is already loaded. To reload it, use:\n",
      "  %reload_ext autoreload\n"
     ]
    }
   ],
   "source": [
    "import numpy as np\n",
    "from helpers import *\n",
    "from implementations import *\n",
    "\n",
    "%load_ext autoreload\n",
    "%autoreload 2"
   ]
  },
  {
   "cell_type": "code",
   "execution_count": 18,
   "metadata": {},
   "outputs": [
    {
     "name": "stdout",
     "output_type": "stream",
     "text": [
      "[[5.3000000e+01 1.1000000e+01 1.1162015e+07 ...           nan\n",
      "            nan 2.0000000e+00]\n",
      " [3.3000000e+01 1.2000000e+01 1.2152015e+07 ...           nan\n",
      "            nan           nan]\n",
      " [2.0000000e+01 1.0000000e+01 1.0202015e+07 ... 1.0000000e+00\n",
      "  2.0000000e+00 2.0000000e+00]\n",
      " [4.2000000e+01 6.0000000e+00 6.1820150e+06 ... 2.0000000e+00\n",
      "  2.0000000e+00 2.0000000e+00]\n",
      " [2.4000000e+01 1.1000000e+01 1.1062015e+07 ... 9.0000000e+00\n",
      "  9.0000000e+00 2.0000000e+00]]\n"
     ]
    }
   ],
   "source": [
    "data_path=\"data/dataset_to_release\"\n",
    "x_train, x_test, y_train, train_ids, test_ids = load_csv_data(data_path)\n",
    "print(x_train[:5])"
   ]
  },
  {
   "cell_type": "code",
   "execution_count": 19,
   "metadata": {},
   "outputs": [],
   "source": [
    "x_train_p, x_test_p=apply_preprocessing(x_train, x_test, \n",
    "                                        correlation_tolerance=0.01, \n",
    "                                        outlier_coefficient=2.0, \n",
    "                                        polynomial_degree=1, \n",
    "                                        log_transform_columns=[])"
   ]
  },
  {
   "cell_type": "code",
   "execution_count": 20,
   "metadata": {},
   "outputs": [],
   "source": [
    "np.random.seed(42)"
   ]
  },
  {
   "cell_type": "code",
   "execution_count": null,
   "metadata": {},
   "outputs": [],
   "source": [
    "def stratified_K_fold(y,k=5,seed=42):\n",
    "    no_of_test_labels=np.floor(y.shape[0]/k)\n",
    "    \n",
    "    unique_labels=np.unique(y)\n",
    "    label_ratio={};label_indexes={};label_count_p_fold={}\n",
    "\n",
    "    picked_count=0\n",
    "    for i,label in enumerate(unique_labels):\n",
    "        label_ratio[label]=y[y==label].shape[0]/y.shape[0]\n",
    "        label_indexes[label]=np.random.permutation(np.argwhere(y==label))\n",
    "        if i<len(unique_labels)-1:\n",
    "            label_count_p_fold[label]=np.floor(no_of_test_labels*label_ratio[label])\n",
    "            picked_count+=label_count_p_fold[label]\n",
    "        else:\n",
    "            label_count_p_fold[label]=no_of_test_labels-picked_count\n",
    "\n",
    "    folds=[]\n",
    "    for i in range(k):\n",
    "        index_arrs=[]\n",
    "        for label in unique_labels:\n",
    "            label_to_take=int(label_count_p_fold[label])\n",
    "            #print(i*label_to_take,(i+1)*label_to_take)\n",
    "            index_arrs.append(label_indexes[label][i*label_to_take:(i+1)*label_to_take])\n",
    "    \n",
    "        test_fold=np.random.permutation(np.concatenate(index_arrs))\n",
    "        train_fold=np.random.permutation(np.setdiff1d(np.indices(y.shape),test_fold,assume_unique=True))\n",
    "        #print(test_fold.shape,train_fold.shape)\n",
    "        folds.append((train_fold,test_fold))\n",
    "    \n",
    "    return folds\n",
    "\n",
    "def calculate_metrics(y_pred,y_true):\n",
    "    accuracy=y_pred[y_pred==y_true].shape[0]/y_pred.shape[0]\n",
    "    precision={};recall={}\n",
    "    for label in np.unique(y_true):\n",
    "        try:\n",
    "            precision[label]=y_pred[(y_pred==label) & (y_true==label)].shape[0]/y_pred[y_pred==label].shape[0]\n",
    "        except:\n",
    "            continue\n",
    "        try:\n",
    "            recall[label]=y_pred[(y_pred==label) & (y_true==label)].shape[0]/y_true[y_true==label].shape[0]\n",
    "        except:\n",
    "            continue\n",
    "    return accuracy,precision,recall\n",
    "\n",
    "def calculate_confusion_mat(y_pred,y_true):\n",
    "    unique_labels=np.unique(y_true)\n",
    "    conf_matrix=np.zeros(len(unique_labels))\n",
    "    for i,pred_label in enumerate(unique_labels):\n",
    "        for j,true_label in enumerate(unique_labels):\n",
    "            conf_matrix[i,j]=y_pred[y_pred==pred_label & y_true==true_label].shape[0]\n",
    "    return conf_matrix"
   ]
  },
  {
   "cell_type": "code",
   "execution_count": null,
   "metadata": {},
   "outputs": [],
   "source": [
    "folds=stratified_K_fold(y_train)"
   ]
  },
  {
   "cell_type": "code",
   "execution_count": 17,
   "metadata": {},
   "outputs": [
    {
     "name": "stdout",
     "output_type": "stream",
     "text": [
      "Fold 1\n",
      "Train loss: -1089.3914679818747\n",
      "Val loss: -1089.39144787967\n",
      "Accuracy: 0.911697929205967 Precision: {-1.0: 1.0} Recall: {-1.0: 0.911697929205967}\n",
      "##########################################\n",
      "Fold 2\n",
      "Train loss: -1089.3914476447048\n",
      "Val loss: -1089.3914783740236\n",
      "Accuracy: 0.911697929205967 Precision: {-1.0: 1.0} Recall: {-1.0: 0.911697929205967}\n",
      "##########################################\n",
      "Fold 3\n",
      "Train loss: -1089.3914680838668\n",
      "Val loss: -1089.3914477073436\n",
      "Accuracy: 0.911697929205967 Precision: {-1.0: 1.0} Recall: {-1.0: 0.911697929205967}\n",
      "##########################################\n",
      "Fold 4\n",
      "Train loss: -1089.3914545247999\n",
      "Val loss: -1089.391468060546\n",
      "Accuracy: 0.911697929205967 Precision: {-1.0: 1.0} Recall: {-1.0: 0.911697929205967}\n",
      "##########################################\n",
      "Fold 5\n",
      "Train loss: -1089.3914614905955\n",
      "Val loss: -1089.3914576181778\n",
      "Accuracy: 0.911697929205967 Precision: {-1.0: 1.0} Recall: {-1.0: 0.911697929205967}\n",
      "##########################################\n"
     ]
    }
   ],
   "source": [
    "for i,(train_fold,val_fold) in enumerate(folds):\n",
    "    print(\"Fold\",i+1)\n",
    "    x_train_fold=x_train_p[train_fold]\n",
    "    x_val_fold=x_train_p[val_fold]\n",
    "    \n",
    "    y_train_fold=y_train[train_fold]\n",
    "    y_val_fold=y_train[val_fold]\n",
    "\n",
    "    initial_w=np.zeros((x_train_fold.shape[1],))\n",
    "    #print(initial_w.shape)\n",
    "    \n",
    "    w,loss=reg_logistic_regression(y_train_fold,x_train_fold,lambda_=0.1 ,initial_w=initial_w, max_iters=100, gamma=0.3)\n",
    "    print(\"Train loss:\",loss)\n",
    "    \n",
    "    y_pred = sigmoid(x_val_fold.dot(w))\n",
    "    y_pred[y_pred>1/2]=1;y_pred[y_pred<1/2]=-1\n",
    "    accuracy,precision,recall=*calculate_metrics(y_val_fold,y_pred),\n",
    "\n",
    "    print(\"Val loss:\",calculate_logistic_loss(y_val_fold,x_val_fold,w))\n",
    "    print(\"Accuracy:\",accuracy,\"Precision:\",precision,\"Recall:\",recall)\n",
    "    print(\"##########################################\")"
   ]
  },
  {
   "cell_type": "code",
   "execution_count": 36,
   "metadata": {},
   "outputs": [
    {
     "name": "stdout",
     "output_type": "stream",
     "text": [
      "Fold 1\n",
      "11.324762726488352\n",
      "1.0968545260061506\n",
      "Train loss: 6.110846838744346e+16\n",
      "Val loss: 69.07755278982135\n",
      "Accuracy: 0.08830207079403295 Precision: {1.0: 1.0} Recall: {1.0: 0.08830207079403295}\n",
      "##########################################\n",
      "Fold 2\n",
      "11.324762726488352\n",
      "1.0968545260061506\n",
      "Train loss: 6.110846749387251e+16\n",
      "Val loss: 69.07755278982137\n",
      "Accuracy: 0.08830207079403295 Precision: {1.0: 1.0} Recall: {1.0: 0.08830207079403295}\n",
      "##########################################\n",
      "Fold 3\n",
      "11.324762726488352\n",
      "1.0968545260061506\n",
      "Train loss: 6.110846845613867e+16\n",
      "Val loss: 69.07755278982138\n",
      "Accuracy: 0.08830207079403295 Precision: {1.0: 1.0} Recall: {1.0: 0.08830207079403295}\n",
      "##########################################\n",
      "Fold 4\n",
      "11.324762726488352\n",
      "1.0968545260061506\n",
      "Train loss: 6.110846796620435e+16\n",
      "Val loss: 69.07755278982137\n",
      "Accuracy: 0.08830207079403295 Precision: {1.0: 1.0} Recall: {1.0: 0.08830207079403295}\n",
      "##########################################\n",
      "Fold 5\n",
      "11.324762726488352\n",
      "1.0968545260061506\n",
      "Train loss: 6.110846825210716e+16\n",
      "Val loss: 69.07755278982137\n",
      "Accuracy: 0.08830207079403295 Precision: {1.0: 1.0} Recall: {1.0: 0.08830207079403295}\n",
      "##########################################\n"
     ]
    }
   ],
   "source": [
    "for i,(train_fold,val_fold) in enumerate(folds):\n",
    "    print(\"Fold\",i+1)\n",
    "    x_train_fold=x_train_p[train_fold]\n",
    "    x_val_fold=x_train_p[val_fold]\n",
    "    \n",
    "    y_train_fold=y_train[train_fold]\n",
    "    y_val_fold=y_train[val_fold]\n",
    "\n",
    "    initial_w=np.zeros((x_train_fold.shape[1],))\n",
    "    #print(initial_w.shape)\n",
    "    w,loss=reg_weighted_logistic_regression_balanced(y_train_fold,x_train_fold,lambda_=0.1 ,initial_w=initial_w, max_iters=100, gamma=0.3,class_weights={-1:0.3,1:0.7})\n",
    "    print(\"Train loss:\",loss)\n",
    "    y_pred = sigmoid(x_val_fold.dot(w))\n",
    "    y_pred[y_pred>1/2]=1;y_pred[y_pred<1/2]=-1\n",
    "    accuracy,precision,recall=calculate_metrics(y_val_fold,y_pred)\n",
    "    total_samples = len(y_val_fold)\n",
    "    w1 = total_samples / np.sum(y_val_fold == 1)\n",
    "    w2 = total_samples / np.sum(y_val_fold == -1)\n",
    "    print(\"Val loss:\",calculate_weighted_logistic_loss(y_val_fold,x_val_fold,w,w1,w2))\n",
    "    print(\"Accuracy:\",accuracy,\"Precision:\",precision,\"Recall:\",recall)\n",
    "    print(\"##########################################\")\n",
    "\n"
   ]
  }
 ],
 "metadata": {
  "kernelspec": {
   "display_name": "base",
   "language": "python",
   "name": "python3"
  },
  "language_info": {
   "codemirror_mode": {
    "name": "ipython",
    "version": 3
   },
   "file_extension": ".py",
   "mimetype": "text/x-python",
   "name": "python",
   "nbconvert_exporter": "python",
   "pygments_lexer": "ipython3",
   "version": "3.9.13"
  }
 },
 "nbformat": 4,
 "nbformat_minor": 2
}
