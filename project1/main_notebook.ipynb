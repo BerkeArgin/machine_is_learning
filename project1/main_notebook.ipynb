{
 "cells": [
  {
   "cell_type": "code",
   "execution_count": null,
   "metadata": {},
   "outputs": [],
   "source": [
    "folds=stratified_K_fold(y_train)"
   ]
  },
  {
   "cell_type": "code",
   "execution_count": null,
   "metadata": {},
   "outputs": [],
   "source": [
    "for i,(train_fold,val_fold) in enumerate(folds):\n",
    "    print(\"Fold\",i+1)\n",
    "    x_train_fold=x_train_p[train_fold]\n",
    "    x_val_fold=x_train_p[val_fold]\n",
    "    \n",
    "    y_train_fold=y_train[train_fold]\n",
    "    y_val_fold=y_train[val_fold]\n",
    "\n",
    "    initial_w=np.zeros((x_train_fold.shape[1],))\n",
    "    #print(initial_w.shape)\n",
    "    \n",
    "    w,loss=reg_logistic_regression(y_train_fold,x_train_fold,lambda_=0.1 ,initial_w=initial_w, max_iters=100, gamma=0.3)\n",
    "    print(\"Train loss:\",loss)\n",
    "    \n",
    "    y_pred = sigmoid(x_val_fold.dot(w))\n",
    "    y_pred[y_pred>1/2]=1;y_pred[y_pred<1/2]=-1\n",
    "    accuracy,precision,recall=*calculate_metrics(y_val_fold,y_pred),\n",
    "\n",
    "    print(\"Val loss:\",calculate_logistic_loss(y_val_fold,x_val_fold,w))\n",
    "    print(\"Accuracy:\",accuracy,\"Precision:\",precision,\"Recall:\",recall)\n",
    "    print(\"##########################################\")"
   ]
  }
 ],
 "metadata": {
  "kernelspec": {
   "display_name": "base",
   "language": "python",
   "name": "python3"
  },
  "language_info": {
   "codemirror_mode": {
    "name": "ipython",
    "version": 3
   },
   "file_extension": ".py",
   "mimetype": "text/x-python",
   "name": "python",
   "nbconvert_exporter": "python",
   "pygments_lexer": "ipython3",
   "version": "3.9.13"
  }
 },
 "nbformat": 4,
 "nbformat_minor": 2
}
